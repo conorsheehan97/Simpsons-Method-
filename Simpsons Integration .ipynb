{
 "cells": [
  {
   "cell_type": "markdown",
   "id": "aa29048f-df9e-483a-a5f3-f3ecf708d3e9",
   "metadata": {},
   "source": [
    "We used Simpsons method to approximate the integral of the following two functions $\\in [0,1:]$\n",
    "\\begin{equation}\n",
    "f(x) = sin(x)\n",
    "\\end{equation}\n",
    "\\begin{equation}\n",
    "f(x) = \\frac{1}{1 + x^{2}}\n",
    "\\end{equation}\n",
    "which both have integrals of (forget about integration constants for now): \n",
    "\\begin{equation}\n",
    "f(x) = -cos(x)\n",
    "\\end{equation}\n",
    "\\begin{equation}\n",
    "f(x) = tan^{-1}(x)\n",
    "\\end{equation}"
   ]
  },
  {
   "cell_type": "markdown",
   "id": "74219513-d243-447c-b2f0-34ed588de5e2",
   "metadata": {},
   "source": [
    "Our results from the C++ program were 0.4594 & 0.7854 repectively. Let's use Python SciPY integrate module to check how accurate we were. We can use the quad function to integrate functions with a single variable. "
   ]
  },
  {
   "cell_type": "code",
   "execution_count": 3,
   "id": "84f9e6f9-66c2-4919-b647-19b89ec5739f",
   "metadata": {},
   "outputs": [
    {
     "name": "stdout",
     "output_type": "stream",
     "text": [
      "The numerical result is 0.459698 (+-5.10367e-15)\n",
      "The numerical result is 0.785398 (+-8.71967e-15)\n"
     ]
    }
   ],
   "source": [
    "from math import sin\n",
    "from scipy.integrate import quad\n",
    "\n",
    "def f1(x):\n",
    "    return sin(x)\n",
    "\n",
    "def f2(x):\n",
    "    return (1/(1+pow(x,2)))\n",
    "\n",
    "\n",
    "res1, err1 = quad(f1, 0, 1)\n",
    "res2, err2 = quad(f2, 0, 1)\n",
    "\n",
    "print(\"The numerical result is {:f} (+-{:g})\".format(res1, err1))\n",
    "print(\"The numerical result is {:f} (+-{:g})\".format(res2, err2))"
   ]
  },
  {
   "cell_type": "markdown",
   "id": "ed9666ed-a13c-445d-ab32-283a2f0de15c",
   "metadata": {},
   "source": [
    "Holy smokes, this is groundbreaking, we can integrate. Smashing stuff!"
   ]
  }
 ],
 "metadata": {
  "kernelspec": {
   "display_name": "Python 3 (ipykernel)",
   "language": "python",
   "name": "python3"
  },
  "language_info": {
   "codemirror_mode": {
    "name": "ipython",
    "version": 3
   },
   "file_extension": ".py",
   "mimetype": "text/x-python",
   "name": "python",
   "nbconvert_exporter": "python",
   "pygments_lexer": "ipython3",
   "version": "3.11.7"
  }
 },
 "nbformat": 4,
 "nbformat_minor": 5
}
